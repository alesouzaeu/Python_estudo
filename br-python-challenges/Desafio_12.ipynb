{
  "nbformat": 4,
  "nbformat_minor": 0,
  "metadata": {
    "anaconda-cloud": {},
    "kernelspec": {
      "display_name": "Python 3",
      "language": "python",
      "name": "python3"
    },
    "language_info": {
      "codemirror_mode": {
        "name": "ipython",
        "version": 3
      },
      "file_extension": ".py",
      "mimetype": "text/x-python",
      "name": "python",
      "nbconvert_exporter": "python",
      "pygments_lexer": "ipython3",
      "version": "3.6.5"
    },
    "colab": {
      "name": "Desafio 12.ipynb",
      "provenance": [],
      "include_colab_link": true
    }
  },
  "cells": [
    {
      "cell_type": "markdown",
      "metadata": {
        "id": "view-in-github",
        "colab_type": "text"
      },
      "source": [
        "<a href=\"https://colab.research.google.com/github/alesouzaeu/Python_estudo/blob/master/Desafio_12.ipynb\" target=\"_parent\"><img src=\"https://colab.research.google.com/assets/colab-badge.svg\" alt=\"Open In Colab\"/></a>"
      ]
    },
    {
      "cell_type": "markdown",
      "metadata": {
        "id": "AYHY2YXQf6J2"
      },
      "source": [
        "### Desafio 12\n",
        "\n",
        "Escreva uma função em Python para verificar a validade de uma senha.\n",
        "\n",
        "Validação:\n",
        "\n",
        "* Pelo menos 1 letra entre [a-z] e 1 letra entre [A-Z].\n",
        "* Pelo menos 1 número entre [0-9].\n",
        "* Pelo menos 1 caractere de [$ # @].\n",
        "* Comprimento mínimo de 6 caracteres.\n",
        "* Comprimento máximo de 16 caracteres.\n",
        "\n",
        "Entradas: \"12345678\", \"J3sus0\", \"#Te5t300\", \"J*90j12374\", \"Michheeul\", \"Monk3y6\"\n",
        "\n",
        "A saída deve ser a senha e um texto indicando se a senha é válida ou inválida:\n",
        "\n",
        "```\n",
        "\"1234\" - Senha inválida\n",
        "\"Qw#1234\" - Senha válida\n",
        "```"
      ]
    },
    {
      "cell_type": "code",
      "metadata": {
        "id": "U3HGHmgHNp7N"
      },
      "source": [
        "from string import punctuation\n",
        "# Punctuation é responsável por retornar todos os conjuntos de pontuação."
      ],
      "execution_count": null,
      "outputs": []
    },
    {
      "cell_type": "code",
      "metadata": {
        "id": "newrwQhrNzom"
      },
      "source": [
        "list_special = list(punctuation)"
      ],
      "execution_count": null,
      "outputs": []
    },
    {
      "cell_type": "code",
      "metadata": {
        "id": "UGgtGYGGf6J3"
      },
      "source": [
        "def conferir_senha(password):\n",
        "    \n",
        "    len_6 = False\n",
        "    if len(password) >= 6:\n",
        "        len_6 = True\n",
        "        \n",
        "    len_16 = False\n",
        "    if len(password) <= 16:\n",
        "        len_16 = True\n",
        "    \n",
        "    check_number = False\n",
        "    lower_case = False\n",
        "    upper_case = False\n",
        "    special_char = False\n",
        "    for i in password:\n",
        "        if i.isdigit():\n",
        "            check_number = True\n",
        "        if i.islower():\n",
        "            lower_case = True\n",
        "        if i.isupper():\n",
        "            upper_case = True\n",
        "        if i in list_special:\n",
        "            special_char = True\n",
        "\n",
        "    if not (check_number & len_16 & len_6 & lower_case & upper_case & special_char):\n",
        "        status_senha = 'Senha inválida'\n",
        "    else:\n",
        "        status_senha = 'Senha válida'\n",
        "    \n",
        "    print('Pelo menos 1 caractere especial:', special_char)\n",
        "    print('Pelo menos 1 letra entre [a-z]:', lower_case)\n",
        "    print('Pelo menos 1 letra entre [A-Z]:', upper_case)\n",
        "    print('Pelo menos 1 número entre [0-9]:', check_number)\n",
        "    print('Comprimento mínimo de 6 caracteres:', len_6)\n",
        "    print('Comprimento máximo de 16 caracteres:', len_16)\n",
        "    print('')\n",
        "    print(status_senha)"
      ],
      "execution_count": null,
      "outputs": []
    },
    {
      "cell_type": "code",
      "metadata": {
        "id": "n8F01NzD9uHm",
        "outputId": "efb3c200-7cf9-4e2b-92ea-f642d60368b3",
        "colab": {
          "base_uri": "https://localhost:8080/",
          "height": 150
        }
      },
      "source": [
        "conferir_senha('12345678')"
      ],
      "execution_count": null,
      "outputs": [
        {
          "output_type": "stream",
          "text": [
            "Pelo menos 1 caractere especial: False\n",
            "Pelo menos 1 letra entre [a-z]: False\n",
            "Pelo menos 1 letra entre [A-Z]: False\n",
            "Pelo menos 1 número entre [0-9]: True\n",
            "Comprimento mínimo de 6 caracteres: True\n",
            "Comprimento máximo de 16 caracteres: True\n",
            "\n",
            "Senha inválida\n"
          ],
          "name": "stdout"
        }
      ]
    },
    {
      "cell_type": "code",
      "metadata": {
        "id": "hVli1UDGN5PZ",
        "outputId": "0eec8483-e147-486b-a1a4-511c3af1f012",
        "colab": {
          "base_uri": "https://localhost:8080/",
          "height": 150
        }
      },
      "source": [
        "conferir_senha('Qw#1234')"
      ],
      "execution_count": null,
      "outputs": [
        {
          "output_type": "stream",
          "text": [
            "Pelo menos 1 caractere especial: True\n",
            "Pelo menos 1 letra entre [a-z]: True\n",
            "Pelo menos 1 letra entre [A-Z]: True\n",
            "Pelo menos 1 número entre [0-9]: True\n",
            "Comprimento mínimo de 6 caracteres: True\n",
            "Comprimento máximo de 16 caracteres: True\n",
            "\n",
            "Senha válida\n"
          ],
          "name": "stdout"
        }
      ]
    },
    {
      "cell_type": "code",
      "metadata": {
        "id": "ActBGiagPLWD"
      },
      "source": [
        ""
      ],
      "execution_count": null,
      "outputs": []
    }
  ]
}