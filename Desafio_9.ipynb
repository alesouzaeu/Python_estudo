{
  "nbformat": 4,
  "nbformat_minor": 0,
  "metadata": {
    "anaconda-cloud": {},
    "kernelspec": {
      "display_name": "Python 3",
      "language": "python",
      "name": "python3"
    },
    "language_info": {
      "codemirror_mode": {
        "name": "ipython",
        "version": 3
      },
      "file_extension": ".py",
      "mimetype": "text/x-python",
      "name": "python",
      "nbconvert_exporter": "python",
      "pygments_lexer": "ipython3",
      "version": "3.6.5"
    },
    "colab": {
      "name": "Desafio 9.ipynb",
      "provenance": [],
      "include_colab_link": true
    }
  },
  "cells": [
    {
      "cell_type": "markdown",
      "metadata": {
        "id": "view-in-github",
        "colab_type": "text"
      },
      "source": [
        "<a href=\"https://colab.research.google.com/github/alesouzaeu/Python_estudo/blob/master/Desafio_9.ipynb\" target=\"_parent\"><img src=\"https://colab.research.google.com/assets/colab-badge.svg\" alt=\"Open In Colab\"/></a>"
      ]
    },
    {
      "cell_type": "markdown",
      "metadata": {
        "id": "HpvTpUBGf6Jr"
      },
      "source": [
        "### Desafio 9\n",
        "\n",
        "Escreva uma função que retorne a soma dos múltiplos de 3 e 5 entre 0 e um número limite (parâmetro). Por exemplo, se o limite for 20, ele retornará a soma de 3, 5, 6, 9, 10, 12, 15, 18, 20."
      ]
    },
    {
      "cell_type": "code",
      "metadata": {
        "id": "195C6bw-f6Js"
      },
      "source": [
        "def soma_multiplos_3_5(p_limite):\n",
        " \n",
        "    lista_multiplos_3 = [0]\n",
        "    lista_multiplos_5 = [0]\n",
        "    \n",
        "    multiplo_3 = 0\n",
        "    multiplo_5 = 0\n",
        "    \n",
        "    while multiplo_3 < p_limite:\n",
        "        multiplo_3 = multiplo_3 + 3\n",
        "        if multiplo_3 > p_limite:\n",
        "            break\n",
        "        lista_multiplos_3.append(multiplo_3)\n",
        "        \n",
        "            \n",
        "    while multiplo_5 < p_limite:\n",
        "        multiplo_5 = multiplo_5 + 5\n",
        "        if multiplo_5 > p_limite:\n",
        "            break\n",
        "        lista_multiplos_5.append(multiplo_5)\n",
        "    \n",
        "    soma_listas = sum(lista_multiplos_3) + sum(lista_multiplos_5)\n",
        "    \n",
        "    print('Múltiplos de 3:', lista_multiplos_3)\n",
        "    print('Múltiplos de 5:', lista_multiplos_5)\n",
        "    print(f'O resultado da soma dos múltiplos de 3 e 5, até o limite {p_limite}, é: {soma_listas}')"
      ],
      "execution_count": null,
      "outputs": []
    },
    {
      "cell_type": "code",
      "metadata": {
        "id": "a_6aqcKp6wrN",
        "outputId": "4bd97311-5201-4ac6-e832-f4545948d760",
        "colab": {
          "base_uri": "https://localhost:8080/",
          "height": 67
        }
      },
      "source": [
        "soma_multiplos_3_5(50)\n"
      ],
      "execution_count": null,
      "outputs": [
        {
          "output_type": "stream",
          "text": [
            "Múltiplos de 3: [0, 3, 6, 9, 12, 15, 18, 21, 24, 27, 30, 33, 36, 39, 42, 45, 48]\n",
            "Múltiplos de 5: [0, 5, 10, 15, 20, 25, 30, 35, 40, 45, 50]\n",
            "O resultado da soma dos múltiplos de 3 e 5, até o limite 50, é: 683\n"
          ],
          "name": "stdout"
        }
      ]
    },
    {
      "cell_type": "code",
      "metadata": {
        "id": "0Z9jAdAHMN34"
      },
      "source": [
        "def multiplos_x_y(x, y, par_limite):\n",
        "    list_x = []\n",
        "    list_y = []\n",
        "    \n",
        "    for i in range(0, par_limite+1):\n",
        "        if i % x == 0:\n",
        "            list_x.append(i)\n",
        "        if i % y == 0:\n",
        "            list_y.append(i)\n",
        "            \n",
        "    soma_final = sum(list_x) + sum(list_y)\n",
        "    \n",
        "    print(f'Múltiplos de {x}: {list_x}')\n",
        "    print(f'Múltiplos de {y}: {list_y}')\n",
        "    print(f'O resultado da soma dos múltiplos de {x} e {y}, até o limite {par_limite}, é: {soma_final}')"
      ],
      "execution_count": null,
      "outputs": []
    },
    {
      "cell_type": "code",
      "metadata": {
        "id": "H9AYVp6xMQkD",
        "outputId": "674ccb31-6485-4e9b-c109-26bbfde83a19",
        "colab": {
          "base_uri": "https://localhost:8080/",
          "height": 67
        }
      },
      "source": [
        "multiplos_x_y(3, 5, 50)\n"
      ],
      "execution_count": null,
      "outputs": [
        {
          "output_type": "stream",
          "text": [
            "Múltiplos de 3: [0, 3, 6, 9, 12, 15, 18, 21, 24, 27, 30, 33, 36, 39, 42, 45, 48]\n",
            "Múltiplos de 5: [0, 5, 10, 15, 20, 25, 30, 35, 40, 45, 50]\n",
            "O resultado da soma dos múltiplos de 3 e 5, até o limite 50, é: 683\n"
          ],
          "name": "stdout"
        }
      ]
    },
    {
      "cell_type": "code",
      "metadata": {
        "id": "zBH0HR_eMST1"
      },
      "source": [
        ""
      ],
      "execution_count": null,
      "outputs": []
    }
  ]
}