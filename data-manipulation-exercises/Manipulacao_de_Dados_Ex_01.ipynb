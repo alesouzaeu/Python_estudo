{
 "cells": [
  {
   "cell_type": "markdown",
   "metadata": {
    "colab_type": "text",
    "id": "0-t-Tjc6LIn3"
   },
   "source": [
    "![](https://i.imgur.com/JsMvGnP.png)"
   ]
  },
  {
   "cell_type": "markdown",
   "metadata": {
    "colab_type": "text",
    "id": "XGz3tW0TvuSO"
   },
   "source": [
    "\n",
    "## Exercícios de manipulação de dados - Parte 1"
   ]
  },
  {
   "cell_type": "markdown",
   "metadata": {
    "colab_type": "text",
    "id": "A7fnSYMkvuSR"
   },
   "source": [
    "Neste Jupyter notebook você irá resolver uma exercícios utilizando a linguagem Python e a biblioteca Pandas.\n",
    "\n",
    "Todos os datasets utilizados nos exercícios estão salvos na pasta *datasets*.\n",
    "\n",
    "Todo o seu código deve ser executado neste Jupyter Notebook. Por fim, se desejar, revise as respostas com o seu mentor."
   ]
  },
  {
   "cell_type": "code",
   "execution_count": 1,
   "metadata": {
    "colab": {},
    "colab_type": "code",
    "id": "eSXeeQOevuSS"
   },
   "outputs": [],
   "source": [
    "import pandas as pd"
   ]
  },
  {
   "cell_type": "markdown",
   "metadata": {
    "colab_type": "text",
    "id": "KyCY3nFYvuSb"
   },
   "source": [
    "### Passo 1. Importando os dados\n",
    "\n",
    "Carregue os dados salvos no arquivo ***datasets/users_dataset.csv***.\n",
    "\n",
    "Esse arquivo possui um conjunto de dados de trabalhadores com 5 colunas separadas pelo símbolo \"|\" (pipe) e 943 linhas.\n",
    "\n",
    "Dica: não se esqueça do argumento *sep* quando importar os dados."
   ]
  },
  {
   "cell_type": "code",
   "execution_count": 11,
   "metadata": {
    "colab": {},
    "colab_type": "code",
    "id": "K_264wLuvuSc"
   },
   "outputs": [],
   "source": [
    "users = pd.read_csv('users_dataset.csv', encoding = \"UTF-8\", sep= \"|\")\n",
    "df = users"
   ]
  },
  {
   "cell_type": "markdown",
   "metadata": {
    "colab_type": "text",
    "id": "sA_FXDmPvuSi"
   },
   "source": [
    "### Passo 2. Mostre as 15 primeiras linhas do dataset.\n",
    "\n",
    "*Dica: use a função head do DataFrame*"
   ]
  },
  {
   "cell_type": "code",
   "execution_count": 12,
   "metadata": {
    "colab": {},
    "colab_type": "code",
    "id": "eby27_PtvuSj",
    "scrolled": false
   },
   "outputs": [
    {
     "data": {
      "text/html": [
       "<div>\n",
       "<style scoped>\n",
       "    .dataframe tbody tr th:only-of-type {\n",
       "        vertical-align: middle;\n",
       "    }\n",
       "\n",
       "    .dataframe tbody tr th {\n",
       "        vertical-align: top;\n",
       "    }\n",
       "\n",
       "    .dataframe thead th {\n",
       "        text-align: right;\n",
       "    }\n",
       "</style>\n",
       "<table border=\"1\" class=\"dataframe\">\n",
       "  <thead>\n",
       "    <tr style=\"text-align: right;\">\n",
       "      <th></th>\n",
       "      <th>user_id</th>\n",
       "      <th>age</th>\n",
       "      <th>gender</th>\n",
       "      <th>occupation</th>\n",
       "      <th>zip_code</th>\n",
       "    </tr>\n",
       "  </thead>\n",
       "  <tbody>\n",
       "    <tr>\n",
       "      <th>0</th>\n",
       "      <td>1</td>\n",
       "      <td>24</td>\n",
       "      <td>M</td>\n",
       "      <td>technician</td>\n",
       "      <td>85711</td>\n",
       "    </tr>\n",
       "    <tr>\n",
       "      <th>1</th>\n",
       "      <td>2</td>\n",
       "      <td>53</td>\n",
       "      <td>F</td>\n",
       "      <td>other</td>\n",
       "      <td>94043</td>\n",
       "    </tr>\n",
       "    <tr>\n",
       "      <th>2</th>\n",
       "      <td>3</td>\n",
       "      <td>23</td>\n",
       "      <td>M</td>\n",
       "      <td>writer</td>\n",
       "      <td>32067</td>\n",
       "    </tr>\n",
       "    <tr>\n",
       "      <th>3</th>\n",
       "      <td>4</td>\n",
       "      <td>24</td>\n",
       "      <td>M</td>\n",
       "      <td>technician</td>\n",
       "      <td>43537</td>\n",
       "    </tr>\n",
       "    <tr>\n",
       "      <th>4</th>\n",
       "      <td>5</td>\n",
       "      <td>33</td>\n",
       "      <td>F</td>\n",
       "      <td>other</td>\n",
       "      <td>15213</td>\n",
       "    </tr>\n",
       "    <tr>\n",
       "      <th>5</th>\n",
       "      <td>6</td>\n",
       "      <td>42</td>\n",
       "      <td>M</td>\n",
       "      <td>executive</td>\n",
       "      <td>98101</td>\n",
       "    </tr>\n",
       "    <tr>\n",
       "      <th>6</th>\n",
       "      <td>7</td>\n",
       "      <td>57</td>\n",
       "      <td>M</td>\n",
       "      <td>administrator</td>\n",
       "      <td>91344</td>\n",
       "    </tr>\n",
       "    <tr>\n",
       "      <th>7</th>\n",
       "      <td>8</td>\n",
       "      <td>36</td>\n",
       "      <td>M</td>\n",
       "      <td>administrator</td>\n",
       "      <td>05201</td>\n",
       "    </tr>\n",
       "    <tr>\n",
       "      <th>8</th>\n",
       "      <td>9</td>\n",
       "      <td>29</td>\n",
       "      <td>M</td>\n",
       "      <td>student</td>\n",
       "      <td>01002</td>\n",
       "    </tr>\n",
       "    <tr>\n",
       "      <th>9</th>\n",
       "      <td>10</td>\n",
       "      <td>53</td>\n",
       "      <td>M</td>\n",
       "      <td>lawyer</td>\n",
       "      <td>90703</td>\n",
       "    </tr>\n",
       "    <tr>\n",
       "      <th>10</th>\n",
       "      <td>11</td>\n",
       "      <td>39</td>\n",
       "      <td>F</td>\n",
       "      <td>other</td>\n",
       "      <td>30329</td>\n",
       "    </tr>\n",
       "    <tr>\n",
       "      <th>11</th>\n",
       "      <td>12</td>\n",
       "      <td>28</td>\n",
       "      <td>F</td>\n",
       "      <td>other</td>\n",
       "      <td>06405</td>\n",
       "    </tr>\n",
       "    <tr>\n",
       "      <th>12</th>\n",
       "      <td>13</td>\n",
       "      <td>47</td>\n",
       "      <td>M</td>\n",
       "      <td>educator</td>\n",
       "      <td>29206</td>\n",
       "    </tr>\n",
       "    <tr>\n",
       "      <th>13</th>\n",
       "      <td>14</td>\n",
       "      <td>45</td>\n",
       "      <td>M</td>\n",
       "      <td>scientist</td>\n",
       "      <td>55106</td>\n",
       "    </tr>\n",
       "    <tr>\n",
       "      <th>14</th>\n",
       "      <td>15</td>\n",
       "      <td>49</td>\n",
       "      <td>F</td>\n",
       "      <td>educator</td>\n",
       "      <td>97301</td>\n",
       "    </tr>\n",
       "  </tbody>\n",
       "</table>\n",
       "</div>"
      ],
      "text/plain": [
       "    user_id  age gender     occupation zip_code\n",
       "0         1   24      M     technician    85711\n",
       "1         2   53      F          other    94043\n",
       "2         3   23      M         writer    32067\n",
       "3         4   24      M     technician    43537\n",
       "4         5   33      F          other    15213\n",
       "5         6   42      M      executive    98101\n",
       "6         7   57      M  administrator    91344\n",
       "7         8   36      M  administrator    05201\n",
       "8         9   29      M        student    01002\n",
       "9        10   53      M         lawyer    90703\n",
       "10       11   39      F          other    30329\n",
       "11       12   28      F          other    06405\n",
       "12       13   47      M       educator    29206\n",
       "13       14   45      M      scientist    55106\n",
       "14       15   49      F       educator    97301"
      ]
     },
     "execution_count": 12,
     "metadata": {},
     "output_type": "execute_result"
    }
   ],
   "source": [
    "df.head(15)"
   ]
  },
  {
   "cell_type": "markdown",
   "metadata": {
    "colab_type": "text",
    "id": "BEVUI-6DvuSp"
   },
   "source": [
    "### Passo 3. Mostre as 10 últimas linhas"
   ]
  },
  {
   "cell_type": "code",
   "execution_count": 13,
   "metadata": {
    "colab": {},
    "colab_type": "code",
    "id": "kpFsECt4vuSq",
    "scrolled": true
   },
   "outputs": [
    {
     "data": {
      "text/html": [
       "<div>\n",
       "<style scoped>\n",
       "    .dataframe tbody tr th:only-of-type {\n",
       "        vertical-align: middle;\n",
       "    }\n",
       "\n",
       "    .dataframe tbody tr th {\n",
       "        vertical-align: top;\n",
       "    }\n",
       "\n",
       "    .dataframe thead th {\n",
       "        text-align: right;\n",
       "    }\n",
       "</style>\n",
       "<table border=\"1\" class=\"dataframe\">\n",
       "  <thead>\n",
       "    <tr style=\"text-align: right;\">\n",
       "      <th></th>\n",
       "      <th>user_id</th>\n",
       "      <th>age</th>\n",
       "      <th>gender</th>\n",
       "      <th>occupation</th>\n",
       "      <th>zip_code</th>\n",
       "    </tr>\n",
       "  </thead>\n",
       "  <tbody>\n",
       "    <tr>\n",
       "      <th>933</th>\n",
       "      <td>934</td>\n",
       "      <td>61</td>\n",
       "      <td>M</td>\n",
       "      <td>engineer</td>\n",
       "      <td>22902</td>\n",
       "    </tr>\n",
       "    <tr>\n",
       "      <th>934</th>\n",
       "      <td>935</td>\n",
       "      <td>42</td>\n",
       "      <td>M</td>\n",
       "      <td>doctor</td>\n",
       "      <td>66221</td>\n",
       "    </tr>\n",
       "    <tr>\n",
       "      <th>935</th>\n",
       "      <td>936</td>\n",
       "      <td>24</td>\n",
       "      <td>M</td>\n",
       "      <td>other</td>\n",
       "      <td>32789</td>\n",
       "    </tr>\n",
       "    <tr>\n",
       "      <th>936</th>\n",
       "      <td>937</td>\n",
       "      <td>48</td>\n",
       "      <td>M</td>\n",
       "      <td>educator</td>\n",
       "      <td>98072</td>\n",
       "    </tr>\n",
       "    <tr>\n",
       "      <th>937</th>\n",
       "      <td>938</td>\n",
       "      <td>38</td>\n",
       "      <td>F</td>\n",
       "      <td>technician</td>\n",
       "      <td>55038</td>\n",
       "    </tr>\n",
       "    <tr>\n",
       "      <th>938</th>\n",
       "      <td>939</td>\n",
       "      <td>26</td>\n",
       "      <td>F</td>\n",
       "      <td>student</td>\n",
       "      <td>33319</td>\n",
       "    </tr>\n",
       "    <tr>\n",
       "      <th>939</th>\n",
       "      <td>940</td>\n",
       "      <td>32</td>\n",
       "      <td>M</td>\n",
       "      <td>administrator</td>\n",
       "      <td>02215</td>\n",
       "    </tr>\n",
       "    <tr>\n",
       "      <th>940</th>\n",
       "      <td>941</td>\n",
       "      <td>20</td>\n",
       "      <td>M</td>\n",
       "      <td>student</td>\n",
       "      <td>97229</td>\n",
       "    </tr>\n",
       "    <tr>\n",
       "      <th>941</th>\n",
       "      <td>942</td>\n",
       "      <td>48</td>\n",
       "      <td>F</td>\n",
       "      <td>librarian</td>\n",
       "      <td>78209</td>\n",
       "    </tr>\n",
       "    <tr>\n",
       "      <th>942</th>\n",
       "      <td>943</td>\n",
       "      <td>22</td>\n",
       "      <td>M</td>\n",
       "      <td>student</td>\n",
       "      <td>77841</td>\n",
       "    </tr>\n",
       "  </tbody>\n",
       "</table>\n",
       "</div>"
      ],
      "text/plain": [
       "     user_id  age gender     occupation zip_code\n",
       "933      934   61      M       engineer    22902\n",
       "934      935   42      M         doctor    66221\n",
       "935      936   24      M          other    32789\n",
       "936      937   48      M       educator    98072\n",
       "937      938   38      F     technician    55038\n",
       "938      939   26      F        student    33319\n",
       "939      940   32      M  administrator    02215\n",
       "940      941   20      M        student    97229\n",
       "941      942   48      F      librarian    78209\n",
       "942      943   22      M        student    77841"
      ]
     },
     "execution_count": 13,
     "metadata": {},
     "output_type": "execute_result"
    }
   ],
   "source": [
    "df.tail(10)"
   ]
  },
  {
   "cell_type": "markdown",
   "metadata": {
    "colab_type": "text",
    "id": "twsu1FC9vuS2"
   },
   "source": [
    "### Passo 4. Qual o número de linhas e colunas do DataFrame?"
   ]
  },
  {
   "cell_type": "code",
   "execution_count": 15,
   "metadata": {
    "colab": {},
    "colab_type": "code",
    "id": "p95GfK37vuS4"
   },
   "outputs": [
    {
     "data": {
      "text/plain": [
       "(943, 5)"
      ]
     },
     "execution_count": 15,
     "metadata": {},
     "output_type": "execute_result"
    }
   ],
   "source": [
    "df.shape"
   ]
  },
  {
   "cell_type": "markdown",
   "metadata": {
    "colab_type": "text",
    "id": "s8KR71DSvuS-"
   },
   "source": [
    "### Passo 5. Mostre o nome de todas as colunas."
   ]
  },
  {
   "cell_type": "code",
   "execution_count": 20,
   "metadata": {
    "colab": {},
    "colab_type": "code",
    "id": "Jn7D0SONvuS-"
   },
   "outputs": [
    {
     "data": {
      "text/plain": [
       "Index(['user_id', 'age', 'gender', 'occupation', 'zip_code'], dtype='object')"
      ]
     },
     "execution_count": 20,
     "metadata": {},
     "output_type": "execute_result"
    }
   ],
   "source": [
    "df.columns"
   ]
  },
  {
   "cell_type": "markdown",
   "metadata": {
    "colab_type": "text",
    "id": "NJawDbXUvuTF"
   },
   "source": [
    "### Passo 6. Qual o tipo de dado de cada columa?"
   ]
  },
  {
   "cell_type": "code",
   "execution_count": 19,
   "metadata": {
    "colab": {},
    "colab_type": "code",
    "id": "jua84akGvuTG"
   },
   "outputs": [
    {
     "data": {
      "text/plain": [
       "user_id        int64\n",
       "age            int64\n",
       "gender        object\n",
       "occupation    object\n",
       "zip_code      object\n",
       "dtype: object"
      ]
     },
     "execution_count": 19,
     "metadata": {},
     "output_type": "execute_result"
    }
   ],
   "source": [
    "df.dtypes"
   ]
  },
  {
   "cell_type": "markdown",
   "metadata": {
    "colab_type": "text",
    "id": "lrFgfNdpvuTM"
   },
   "source": [
    "### Passo 7. Mostre os dados da coluna *occupation*."
   ]
  },
  {
   "cell_type": "code",
   "execution_count": 22,
   "metadata": {
    "colab": {},
    "colab_type": "code",
    "id": "zsCsoqi9vuTN",
    "scrolled": false
   },
   "outputs": [
    {
     "data": {
      "text/plain": [
       "array(['technician', 'other', 'writer', 'technician', 'other',\n",
       "       'executive', 'administrator', 'administrator', 'student', 'lawyer',\n",
       "       'other', 'other', 'educator', 'scientist', 'educator',\n",
       "       'entertainment', 'programmer', 'other', 'librarian', 'homemaker',\n",
       "       'writer', 'writer', 'artist', 'artist', 'engineer', 'engineer',\n",
       "       'librarian', 'writer', 'programmer', 'student', 'artist',\n",
       "       'student', 'student', 'administrator', 'homemaker', 'student',\n",
       "       'student', 'other', 'entertainment', 'scientist', 'engineer',\n",
       "       'administrator', 'librarian', 'technician', 'programmer',\n",
       "       'marketing', 'marketing', 'administrator', 'student', 'writer',\n",
       "       'educator', 'student', 'programmer', 'executive', 'programmer',\n",
       "       'librarian', 'none', 'programmer', 'educator', 'healthcare',\n",
       "       'engineer', 'administrator', 'marketing', 'educator', 'educator',\n",
       "       'student', 'student', 'student', 'engineer', 'engineer',\n",
       "       'scientist', 'administrator', 'student', 'scientist',\n",
       "       'entertainment', 'student', 'technician', 'administrator',\n",
       "       'administrator', 'administrator', 'student', 'programmer', 'other',\n",
       "       'executive', 'educator', 'administrator', 'administrator',\n",
       "       'librarian', 'administrator', 'educator', 'marketing',\n",
       "       'entertainment', 'executive', 'student', 'administrator', 'artist',\n",
       "       'artist', 'executive', 'student', 'executive', 'student',\n",
       "       'programmer', 'student', 'student', 'engineer', 'retired',\n",
       "       'scientist', 'educator', 'other', 'student', 'engineer',\n",
       "       'salesman', 'executive', 'programmer', 'engineer', 'healthcare',\n",
       "       'student', 'administrator', 'programmer', 'other', 'librarian',\n",
       "       'writer', 'artist', 'student', 'lawyer', 'lawyer', 'none',\n",
       "       'marketing', 'marketing', 'none', 'administrator', 'other',\n",
       "       'engineer', 'programmer', 'student', 'other', 'educator', 'doctor',\n",
       "       'student', 'student', 'programmer', 'other', 'technician',\n",
       "       'programmer', 'entertainment', 'artist', 'librarian', 'engineer',\n",
       "       'marketing', 'artist', 'administrator', 'educator', 'student',\n",
       "       'student', 'other', 'educator', 'engineer', 'educator', 'student',\n",
       "       'programmer', 'lawyer', 'artist', 'administrator', 'healthcare',\n",
       "       'other', 'educator', 'other', 'other', 'other', 'healthcare',\n",
       "       'educator', 'marketing', 'other', 'administrator', 'scientist',\n",
       "       'scientist', 'programmer', 'other', 'entertainment',\n",
       "       'administrator', 'executive', 'programmer', 'scientist',\n",
       "       'librarian', 'librarian', 'executive', 'educator', 'student',\n",
       "       'artist', 'administrator', 'administrator', 'educator', 'student',\n",
       "       'administrator', 'scientist', 'writer', 'technician', 'student',\n",
       "       'writer', 'programmer', 'writer', 'educator', 'student',\n",
       "       'librarian', 'lawyer', 'student', 'marketing', 'engineer',\n",
       "       'educator', 'engineer', 'salesman', 'educator', 'executive',\n",
       "       'librarian', 'programmer', 'engineer', 'other', 'administrator',\n",
       "       'programmer', 'librarian', 'student', 'programmer', 'student',\n",
       "       'educator', 'administrator', 'student', 'executive', 'student',\n",
       "       'librarian', 'student', 'librarian', 'scientist', 'engineer',\n",
       "       'retired', 'educator', 'writer', 'administrator', 'administrator',\n",
       "       'artist', 'educator', 'student', 'educator', 'educator',\n",
       "       'technician', 'student', 'student', 'engineer', 'student',\n",
       "       'student', 'executive', 'doctor', 'engineer', 'librarian',\n",
       "       'educator', 'entertainment', 'none', 'student', 'student',\n",
       "       'student', 'artist', 'administrator', 'student', 'programmer',\n",
       "       'writer', 'executive', 'administrator', 'engineer', 'engineer',\n",
       "       'librarian', 'student', 'engineer', 'scientist', 'other',\n",
       "       'student', 'engineer', 'student', 'administrator', 'librarian',\n",
       "       'programmer', 'librarian', 'student', 'administrator',\n",
       "       'programmer', 'executive', 'programmer', 'student', 'salesman',\n",
       "       'marketing', 'none', 'engineer', 'student', 'programmer', 'writer',\n",
       "       'technician', 'educator', 'administrator', 'educator', 'executive',\n",
       "       'doctor', 'programmer', 'student', 'educator', 'student',\n",
       "       'student', 'programmer', 'other', 'student', 'retired',\n",
       "       'scientist', 'educator', 'technician', 'other', 'marketing',\n",
       "       'student', 'educator', 'other', 'administrator', 'retired',\n",
       "       'programmer', 'student', 'educator', 'student', 'student',\n",
       "       'student', 'technician', 'administrator', 'student',\n",
       "       'administrator', 'educator', 'educator', 'entertainment',\n",
       "       'student', 'other', 'librarian', 'executive', 'salesman',\n",
       "       'scientist', 'librarian', 'lawyer', 'engineer', 'student', 'other',\n",
       "       'engineer', 'librarian', 'librarian', 'other', 'student',\n",
       "       'student', 'retired', 'student', 'educator', 'programmer',\n",
       "       'scientist', 'librarian', 'student', 'homemaker', 'executive',\n",
       "       'educator', 'student', 'other', 'student', 'homemaker', 'student',\n",
       "       'engineer', 'lawyer', 'student', 'student', 'student', 'student',\n",
       "       'writer', 'engineer', 'student', 'other', 'executive',\n",
       "       'entertainment', 'other', 'student', 'student', 'programmer',\n",
       "       'engineer', 'artist', 'engineer', 'administrator', 'programmer',\n",
       "       'writer', 'salesman', 'entertainment', 'other', 'writer', 'writer',\n",
       "       'student', 'writer', 'student', 'administrator', 'other',\n",
       "       'engineer', 'student', 'other', 'other', 'administrator',\n",
       "       'healthcare', 'engineer', 'other', 'programmer', 'healthcare',\n",
       "       'educator', 'engineer', 'student', 'administrator', 'artist',\n",
       "       'educator', 'educator', 'educator', 'programmer', 'educator',\n",
       "       'student', 'other', 'none', 'lawyer', 'educator', 'programmer',\n",
       "       'entertainment', 'other', 'marketing', 'student', 'educator',\n",
       "       'doctor', 'student', 'student', 'scientist', 'marketing',\n",
       "       'entertainment', 'artist', 'student', 'engineer', 'administrator',\n",
       "       'other', 'administrator', 'administrator', 'other', 'technician',\n",
       "       'student', 'salesman', 'lawyer', 'writer', 'educator',\n",
       "       'administrator', 'entertainment', 'librarian', 'educator',\n",
       "       'student', 'administrator', 'student', 'other', 'administrator',\n",
       "       'technician', 'salesman', 'technician', 'student', 'other',\n",
       "       'student', 'student', 'healthcare', 'writer', 'other', 'student',\n",
       "       'engineer', 'engineer', 'educator', 'programmer', 'student',\n",
       "       'student', 'student', 'executive', 'programmer', 'student',\n",
       "       'student', 'other', 'educator', 'retired', 'retired', 'student',\n",
       "       'scientist', 'student', 'educator', 'educator', 'engineer',\n",
       "       'technician', 'other', 'artist', 'writer', 'educator', 'engineer',\n",
       "       'administrator', 'engineer', 'student', 'student', 'writer',\n",
       "       'programmer', 'administrator', 'student', 'student', 'writer',\n",
       "       'writer', 'other', 'programmer', 'writer', 'marketing',\n",
       "       'administrator', 'other', 'student', 'other', 'administrator',\n",
       "       'programmer', 'marketing', 'librarian', 'student', 'writer',\n",
       "       'other', 'healthcare', 'student', 'engineer', 'administrator',\n",
       "       'educator', 'administrator', 'marketing', 'librarian', 'student',\n",
       "       'administrator', 'engineer', 'salesman', 'student', 'librarian',\n",
       "       'student', 'educator', 'engineer', 'engineer', 'scientist',\n",
       "       'administrator', 'engineer', 'student', 'student', 'scientist',\n",
       "       'other', 'technician', 'executive', 'educator', 'writer',\n",
       "       'scientist', 'student', 'programmer', 'other', 'educator',\n",
       "       'scientist', 'educator', 'educator', 'writer', 'writer',\n",
       "       'executive', 'student', 'engineer', 'administrator', 'librarian',\n",
       "       'retired', 'student', 'student', 'entertainment', 'educator',\n",
       "       'educator', 'educator', 'artist', 'educator', 'retired',\n",
       "       'educator', 'marketing', 'executive', 'student', 'administrator',\n",
       "       'educator', 'student', 'other', 'student', 'engineer', 'student',\n",
       "       'librarian', 'student', 'other', 'student', 'lawyer', 'educator',\n",
       "       'librarian', 'student', 'educator', 'educator', 'programmer',\n",
       "       'artist', 'other', 'marketing', 'student', 'programmer', 'artist',\n",
       "       'other', 'programmer', 'educator', 'engineer', 'programmer',\n",
       "       'healthcare', 'other', 'student', 'student', 'librarian',\n",
       "       'educator', 'marketing', 'educator', 'educator', 'scientist',\n",
       "       'writer', 'student', 'student', 'writer', 'student', 'programmer',\n",
       "       'educator', 'student', 'programmer', 'scientist', 'engineer',\n",
       "       'none', 'other', 'healthcare', 'student', 'student', 'programmer',\n",
       "       'engineer', 'other', 'educator', 'other', 'engineer', 'librarian',\n",
       "       'student', 'student', 'student', 'scientist', 'retired',\n",
       "       'programmer', 'student', 'educator', 'engineer', 'student',\n",
       "       'engineer', 'retired', 'other', 'executive', 'student',\n",
       "       'healthcare', 'educator', 'none', 'programmer', 'educator',\n",
       "       'student', 'programmer', 'librarian', 'other', 'engineer',\n",
       "       'administrator', 'administrator', 'librarian', 'writer', 'other',\n",
       "       'technician', 'programmer', 'administrator', 'educator', 'student',\n",
       "       'other', 'programmer', 'other', 'educator', 'student', 'lawyer',\n",
       "       'marketing', 'programmer', 'librarian', 'student', 'librarian',\n",
       "       'educator', 'healthcare', 'administrator', 'other', 'salesman',\n",
       "       'educator', 'engineer', 'healthcare', 'programmer', 'writer',\n",
       "       'other', 'other', 'programmer', 'other', 'student', 'librarian',\n",
       "       'other', 'educator', 'librarian', 'student', 'student',\n",
       "       'librarian', 'homemaker', 'other', 'student', 'student', 'student',\n",
       "       'other', 'engineer', 'technician', 'administrator', 'technician',\n",
       "       'technician', 'other', 'administrator', 'entertainment',\n",
       "       'homemaker', 'executive', 'executive', 'student', 'administrator',\n",
       "       'student', 'executive', 'student', 'scientist', 'educator',\n",
       "       'other', 'other', 'other', 'healthcare', 'writer', 'programmer',\n",
       "       'technician', 'technician', 'educator', 'writer', 'student',\n",
       "       'programmer', 'marketing', 'writer', 'engineer', 'other',\n",
       "       'administrator', 'other', 'administrator', 'other', 'retired',\n",
       "       'salesman', 'librarian', 'educator', 'none', 'student', 'student',\n",
       "       'student', 'other', 'student', 'administrator', 'scientist',\n",
       "       'educator', 'student', 'other', 'engineer', 'administrator',\n",
       "       'executive', 'student', 'student', 'writer', 'student', 'student',\n",
       "       'executive', 'librarian', 'programmer', 'student', 'student',\n",
       "       'programmer', 'student', 'artist', 'marketing', 'administrator',\n",
       "       'engineer', 'engineer', 'student', 'administrator', 'other',\n",
       "       'technician', 'educator', 'programmer', 'student', 'educator',\n",
       "       'programmer', 'writer', 'other', 'writer', 'administrator',\n",
       "       'programmer', 'writer', 'administrator', 'administrator',\n",
       "       'educator', 'other', 'marketing', 'healthcare', 'salesman',\n",
       "       'marketing', 'other', 'educator', 'technician', 'student', 'other',\n",
       "       'other', 'other', 'student', 'librarian', 'administrator',\n",
       "       'student', 'engineer', 'librarian', 'artist', 'other', 'engineer',\n",
       "       'artist', 'engineer', 'librarian', 'writer', 'programmer', 'other',\n",
       "       'technician', 'writer', 'other', 'executive', 'artist', 'artist',\n",
       "       'student', 'entertainment', 'artist', 'doctor', 'writer',\n",
       "       'librarian', 'engineer', 'doctor', 'lawyer', 'student', 'engineer',\n",
       "       'student', 'technician', 'other', 'administrator', 'writer',\n",
       "       'student', 'librarian', 'marketing', 'administrator', 'educator',\n",
       "       'other', 'retired', 'student', 'executive', 'student',\n",
       "       'programmer', 'artist', 'other', 'scientist', 'programmer',\n",
       "       'student', 'student', 'executive', 'student', 'administrator',\n",
       "       'scientist', 'student', 'other', 'other', 'educator',\n",
       "       'administrator', 'student', 'marketing', 'engineer', 'librarian',\n",
       "       'engineer', 'other', 'student', 'student', 'scientist',\n",
       "       'technician', 'student', 'administrator', 'other', 'student',\n",
       "       'educator', 'librarian', 'writer', 'other', 'homemaker', 'other',\n",
       "       'retired', 'executive', 'artist', 'educator', 'student', 'other',\n",
       "       'librarian', 'other', 'librarian', 'educator', 'healthcare',\n",
       "       'writer', 'other', 'student', 'other', 'entertainment', 'engineer',\n",
       "       'student', 'scientist', 'other', 'artist', 'student',\n",
       "       'administrator', 'student', 'other', 'salesman', 'entertainment',\n",
       "       'programmer', 'student', 'scientist', 'scientist', 'educator',\n",
       "       'educator', 'student', 'engineer', 'doctor', 'other', 'educator',\n",
       "       'technician', 'student', 'administrator', 'student', 'librarian',\n",
       "       'student'], dtype=object)"
      ]
     },
     "execution_count": 22,
     "metadata": {},
     "output_type": "execute_result"
    }
   ],
   "source": [
    "df['occupation'].values"
   ]
  },
  {
   "cell_type": "markdown",
   "metadata": {
    "colab_type": "text",
    "id": "0ukcvA-wvuTS"
   },
   "source": [
    "### Passo 8. Quantas ocupações diferentes existem neste dataset?"
   ]
  },
  {
   "cell_type": "code",
   "execution_count": 23,
   "metadata": {
    "colab": {},
    "colab_type": "code",
    "id": "6eZOP9cJvuTW"
   },
   "outputs": [
    {
     "data": {
      "text/plain": [
       "RangeIndex(start=0, stop=943, step=1)"
      ]
     },
     "execution_count": 23,
     "metadata": {},
     "output_type": "execute_result"
    }
   ],
   "source": [
    "df.index"
   ]
  },
  {
   "cell_type": "markdown",
   "metadata": {
    "colab_type": "text",
    "id": "2uyaOVm5vuTd"
   },
   "source": [
    "### Passo 9. Qual a ocupação mais frequente?"
   ]
  },
  {
   "cell_type": "code",
   "execution_count": 33,
   "metadata": {
    "colab": {},
    "colab_type": "code",
    "id": "WU8Btq5nvuTd"
   },
   "outputs": [
    {
     "data": {
      "text/plain": [
       "student          196\n",
       "other            105\n",
       "educator          95\n",
       "administrator     79\n",
       "engineer          67\n",
       "programmer        66\n",
       "librarian         51\n",
       "writer            45\n",
       "executive         32\n",
       "scientist         31\n",
       "artist            28\n",
       "technician        27\n",
       "marketing         26\n",
       "entertainment     18\n",
       "healthcare        16\n",
       "retired           14\n",
       "salesman          12\n",
       "lawyer            12\n",
       "none               9\n",
       "doctor             7\n",
       "homemaker          7\n",
       "Name: occupation, dtype: int64"
      ]
     },
     "execution_count": 33,
     "metadata": {},
     "output_type": "execute_result"
    }
   ],
   "source": [
    "df['occupation'].value_counts()"
   ]
  },
  {
   "cell_type": "code",
   "execution_count": 35,
   "metadata": {},
   "outputs": [
    {
     "name": "stdout",
     "output_type": "stream",
     "text": [
      "A ocupação mais frequente é a de Student: 196 vezes\n"
     ]
    }
   ],
   "source": [
    "print(\"A ocupação mais frequente é a de Student: 196 vezes\")"
   ]
  },
  {
   "cell_type": "markdown",
   "metadata": {
    "colab_type": "text",
    "id": "HF_uJgbNvuTl"
   },
   "source": [
    "### Passo 10. Qual a idade média dos usuários?"
   ]
  },
  {
   "cell_type": "code",
   "execution_count": 25,
   "metadata": {
    "colab": {},
    "colab_type": "code",
    "id": "0Zt0Rd4PvuTm"
   },
   "outputs": [
    {
     "name": "stdout",
     "output_type": "stream",
     "text": [
      "A média de idade dos usuários é de: 34.05196182396607\n"
     ]
    }
   ],
   "source": [
    "print(\"A média de idade dos usuários é de:\", df['age'].mean())"
   ]
  },
  {
   "cell_type": "markdown",
   "metadata": {
    "colab_type": "text",
    "id": "udwjKtw4DM37"
   },
   "source": [
    "### Passo 11. Utilize o método describe() para obter diversas informações a respeito do DataFrame."
   ]
  },
  {
   "cell_type": "code",
   "execution_count": 26,
   "metadata": {
    "colab": {},
    "colab_type": "code",
    "id": "udGJseFwEpQQ"
   },
   "outputs": [
    {
     "data": {
      "text/html": [
       "<div>\n",
       "<style scoped>\n",
       "    .dataframe tbody tr th:only-of-type {\n",
       "        vertical-align: middle;\n",
       "    }\n",
       "\n",
       "    .dataframe tbody tr th {\n",
       "        vertical-align: top;\n",
       "    }\n",
       "\n",
       "    .dataframe thead th {\n",
       "        text-align: right;\n",
       "    }\n",
       "</style>\n",
       "<table border=\"1\" class=\"dataframe\">\n",
       "  <thead>\n",
       "    <tr style=\"text-align: right;\">\n",
       "      <th></th>\n",
       "      <th>user_id</th>\n",
       "      <th>age</th>\n",
       "    </tr>\n",
       "  </thead>\n",
       "  <tbody>\n",
       "    <tr>\n",
       "      <th>count</th>\n",
       "      <td>943.000000</td>\n",
       "      <td>943.000000</td>\n",
       "    </tr>\n",
       "    <tr>\n",
       "      <th>mean</th>\n",
       "      <td>472.000000</td>\n",
       "      <td>34.051962</td>\n",
       "    </tr>\n",
       "    <tr>\n",
       "      <th>std</th>\n",
       "      <td>272.364951</td>\n",
       "      <td>12.192740</td>\n",
       "    </tr>\n",
       "    <tr>\n",
       "      <th>min</th>\n",
       "      <td>1.000000</td>\n",
       "      <td>7.000000</td>\n",
       "    </tr>\n",
       "    <tr>\n",
       "      <th>25%</th>\n",
       "      <td>236.500000</td>\n",
       "      <td>25.000000</td>\n",
       "    </tr>\n",
       "    <tr>\n",
       "      <th>50%</th>\n",
       "      <td>472.000000</td>\n",
       "      <td>31.000000</td>\n",
       "    </tr>\n",
       "    <tr>\n",
       "      <th>75%</th>\n",
       "      <td>707.500000</td>\n",
       "      <td>43.000000</td>\n",
       "    </tr>\n",
       "    <tr>\n",
       "      <th>max</th>\n",
       "      <td>943.000000</td>\n",
       "      <td>73.000000</td>\n",
       "    </tr>\n",
       "  </tbody>\n",
       "</table>\n",
       "</div>"
      ],
      "text/plain": [
       "          user_id         age\n",
       "count  943.000000  943.000000\n",
       "mean   472.000000   34.051962\n",
       "std    272.364951   12.192740\n",
       "min      1.000000    7.000000\n",
       "25%    236.500000   25.000000\n",
       "50%    472.000000   31.000000\n",
       "75%    707.500000   43.000000\n",
       "max    943.000000   73.000000"
      ]
     },
     "execution_count": 26,
     "metadata": {},
     "output_type": "execute_result"
    }
   ],
   "source": [
    "df.describe()"
   ]
  },
  {
   "cell_type": "markdown",
   "metadata": {
    "colab_type": "text",
    "id": "_7QAvE1NEm7b"
   },
   "source": [
    "**Parabéns! Você chegou ao fim!**"
   ]
  }
 ],
 "metadata": {
  "anaconda-cloud": {},
  "colab": {
   "name": "Exercicios_unidade_5_Manipulacao_de_Dados_Parte_01.ipynb",
   "provenance": []
  },
  "kernelspec": {
   "display_name": "Python 3",
   "language": "python",
   "name": "python3"
  },
  "language_info": {
   "codemirror_mode": {
    "name": "ipython",
    "version": 3
   },
   "file_extension": ".py",
   "mimetype": "text/x-python",
   "name": "python",
   "nbconvert_exporter": "python",
   "pygments_lexer": "ipython3",
   "version": "3.7.6"
  }
 },
 "nbformat": 4,
 "nbformat_minor": 1
}
